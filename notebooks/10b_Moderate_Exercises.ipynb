{
 "cells": [
  {
   "cell_type": "markdown",
   "id": "7cf38430",
   "metadata": {},
   "source": [
    "# 🧪 Python for Absolute Beginners\n",
    "## Notebook 10b: Moderate Practice Exercises\n",
    "\n",
    "These exercises will stretch your understanding and combine several concepts you've learned. Take your time and try your best!"
   ]
  },
  {
   "cell_type": "markdown",
   "id": "12fd68a9",
   "metadata": {},
   "source": [
    "### 1. Name Repeater\n",
    "Ask the user for their name and a number. Print their name that many times (each on a new line)."
   ]
  },
  {
   "cell_type": "code",
   "execution_count": null,
   "id": "1860e038",
   "metadata": {},
   "outputs": [],
   "source": [
    "# Your code here"
   ]
  },
  {
   "cell_type": "markdown",
   "id": "e5183f72",
   "metadata": {},
   "source": [
    "### 2. Word Counter\n",
    "Ask the user for a sentence. Count and print how many words are in the sentence."
   ]
  },
  {
   "cell_type": "code",
   "execution_count": null,
   "id": "a3d7eabc",
   "metadata": {},
   "outputs": [],
   "source": [
    "# Your code here"
   ]
  },
  {
   "cell_type": "markdown",
   "id": "f6f9a62e",
   "metadata": {},
   "source": [
    "### 3. Simple Calculator\n",
    "Ask the user for two numbers and an operation (`+`, `-`, `*`, or `/`). Perform the operation and print the result."
   ]
  },
  {
   "cell_type": "code",
   "execution_count": null,
   "id": "fe12aa87",
   "metadata": {},
   "outputs": [],
   "source": [
    "# Your code here"
   ]
  },
  {
   "cell_type": "markdown",
   "id": "6dc42bc9",
   "metadata": {},
   "source": [
    "### 4. List Builder\n",
    "Use a loop to ask the user to enter 5 favorite movies. Store them in a list and then print the list."
   ]
  },
  {
   "cell_type": "code",
   "execution_count": null,
   "id": "193e1f53",
   "metadata": {},
   "outputs": [],
   "source": [
    "# Your code here"
   ]
  },
  {
   "cell_type": "markdown",
   "id": "3b690712",
   "metadata": {},
   "source": [
    "### 5. Letter Counter\n",
    "Ask the user for a word and a letter. Count how many times the letter appears in the word."
   ]
  },
  {
   "cell_type": "code",
   "execution_count": null,
   "id": "62fee155",
   "metadata": {},
   "outputs": [],
   "source": [
    "# Your code here"
   ]
  },
  {
   "cell_type": "markdown",
   "id": "5882a762",
   "metadata": {},
   "source": [
    "### 🎯 Challenge: Word Reverser with a Twist\n",
    "Ask the user for a sentence. Reverse each word in the sentence, but keep the word order the same.\n",
    "\n",
    "Example:\n",
    "```\n",
    "Input: I love Python\n",
    "Output: I evol nohtyP\n",
    "```"
   ]
  },
  {
   "cell_type": "code",
   "execution_count": null,
   "id": "53e42063",
   "metadata": {},
   "outputs": [],
   "source": [
    "# Your code here"
   ]
  },
  {
   "cell_type": "markdown",
   "id": "dff56751",
   "metadata": {},
   "source": [
    "---\n",
    "When you're done, check the solution notebook: `10b_Moderate_Exercises_Solutions.ipynb`"
   ]
  }
 ],
 "metadata": {},
 "nbformat": 4,
 "nbformat_minor": 5
}
