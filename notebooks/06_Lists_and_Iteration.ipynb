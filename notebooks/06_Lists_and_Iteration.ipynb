{
 "cells": [
  {
   "cell_type": "markdown",
   "id": "d494f20a",
   "metadata": {},
   "source": [
    "# 📚 Python for Absolute Beginners\n",
    "## Lesson 6: Lists and Iteration\n",
    "\n",
    "In this lesson, you'll learn how to store multiple values in a list and use loops to work with them."
   ]
  },
  {
   "cell_type": "markdown",
   "id": "9d2b8c7f",
   "metadata": {},
   "source": [
    "### ✅ Learning Objectives\n",
    "- Create and use lists\n",
    "- Access items in a list\n",
    "- Loop through lists with `for`\n",
    "- Use common list methods like `append()` and `remove()`"
   ]
  },
  {
   "cell_type": "markdown",
   "id": "082734e9",
   "metadata": {},
   "source": [
    "### 📦 What is a List?\n",
    "A list is a collection of values stored in one variable."
   ]
  },
  {
   "cell_type": "code",
   "execution_count": null,
   "id": "f488e4fb",
   "metadata": {},
   "outputs": [],
   "source": [
    "colors = [\"red\", \"green\", \"blue\"]\n",
    "print(colors)"
   ]
  },
  {
   "cell_type": "markdown",
   "id": "4e166bef",
   "metadata": {},
   "source": [
    "### 🔢 Accessing List Items\n",
    "List items are numbered starting from 0."
   ]
  },
  {
   "cell_type": "code",
   "execution_count": null,
   "id": "a5d78675",
   "metadata": {},
   "outputs": [],
   "source": [
    "print(colors[0])  # first item\n",
    "print(colors[2])  # third item"
   ]
  },
  {
   "cell_type": "markdown",
   "id": "74f823be",
   "metadata": {},
   "source": [
    "### ➕ Adding to a List\n",
    "Use `.append()` to add an item to the end."
   ]
  },
  {
   "cell_type": "code",
   "execution_count": null,
   "id": "0f343c99",
   "metadata": {},
   "outputs": [],
   "source": [
    "colors.append(\"yellow\")\n",
    "print(colors)"
   ]
  },
  {
   "cell_type": "markdown",
   "id": "d8fc562a",
   "metadata": {},
   "source": [
    "### ➖ Removing from a List\n",
    "Use `.remove()` to delete an item by value."
   ]
  },
  {
   "cell_type": "code",
   "execution_count": null,
   "id": "d98e0fa4",
   "metadata": {},
   "outputs": [],
   "source": [
    "colors.remove(\"green\")\n",
    "print(colors)"
   ]
  },
  {
   "cell_type": "markdown",
   "id": "b9b7c35a",
   "metadata": {},
   "source": [
    "### 🔁 Looping Through a List"
   ]
  },
  {
   "cell_type": "code",
   "execution_count": null,
   "id": "7ffcdf65",
   "metadata": {},
   "outputs": [],
   "source": [
    "for color in colors:\n",
    "    print(\"I like\", color)"
   ]
  },
  {
   "cell_type": "markdown",
   "id": "d76abba1",
   "metadata": {},
   "source": [
    "### ✍️ Practice: Your Favorite Foods\n",
    "Create a list of 3 of your favorite foods and loop through them to print each one."
   ]
  },
  {
   "cell_type": "code",
   "execution_count": null,
   "id": "b8072c26",
   "metadata": {},
   "outputs": [],
   "source": [
    "# Your code here\n",
    "foods = [\"pizza\", \"sushi\", \"pasta\"]\n",
    "for food in foods:\n",
    "    print(\"Yum! I love\", food)"
   ]
  },
  {
   "cell_type": "markdown",
   "id": "7be69fec",
   "metadata": {},
   "source": [
    "### 🧪 Challenge: Grocery List Manager\n",
    "Start with an empty list. Ask the user 3 times to add an item to the grocery list. Then print the list."
   ]
  },
  {
   "cell_type": "code",
   "execution_count": null,
   "id": "5ba68a42",
   "metadata": {},
   "outputs": [],
   "source": [
    "# Your code here\n",
    "grocery_list = []\n",
    "grocery_list.append(input(\"Add an item: \"))\n",
    "grocery_list.append(input(\"Add another item: \"))\n",
    "grocery_list.append(input(\"Add one more item: \"))\n",
    "\n",
    "print(\"Your grocery list:\")\n",
    "for item in grocery_list:\n",
    "    print(\"-\", item)"
   ]
  },
  {
   "cell_type": "markdown",
   "id": "b0f7c543",
   "metadata": {},
   "source": [
    "### 🧾 Summary\n",
    "- Lists store multiple values in one variable\n",
    "- Use indexes to access items\n",
    "- Use `.append()` and `.remove()` to update lists\n",
    "- Loop through lists with `for`\n",
    "\n",
    "Next up: Functions →"
   ]
  }
 ],
 "metadata": {},
 "nbformat": 4,
 "nbformat_minor": 5
}
