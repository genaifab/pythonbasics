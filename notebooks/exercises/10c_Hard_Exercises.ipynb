{
 "cells": [
  {
   "cell_type": "markdown",
   "id": "3d0f2bbd",
   "metadata": {},
   "source": [
    "# 🧪 Python for Absolute Beginners\n",
    "## Notebook 10c: Harder Practice Exercises (Gently Challenging)\n",
    "\n",
    "These exercises are designed to challenge you — but don’t worry, they build on everything you’ve learned. Take your time and experiment!"
   ]
  },
  {
   "cell_type": "markdown",
   "id": "9a38579f",
   "metadata": {},
   "source": [
    "### 1. Palindrome Checker\n",
    "Ask the user for a word and check if it reads the same backward.\n",
    "\n",
    "Example:\n",
    "```\n",
    "mom → Palindrome!\n",
    "hello → Not a palindrome.\n",
    "```"
   ]
  },
  {
   "cell_type": "code",
   "execution_count": null,
   "id": "78397a98",
   "metadata": {},
   "outputs": [],
   "source": [
    "# Your code here"
   ]
  },
  {
   "cell_type": "markdown",
   "id": "9f9fa365",
   "metadata": {},
   "source": [
    "### 2. Number Guessing Game\n",
    "Pick a number (hardcoded or random), and let the user guess it in a loop until they get it right. Give feedback if the guess is too low or too high."
   ]
  },
  {
   "cell_type": "code",
   "execution_count": null,
   "id": "8792511d",
   "metadata": {},
   "outputs": [],
   "source": [
    "# Your code here"
   ]
  },
  {
   "cell_type": "markdown",
   "id": "ff3d605b",
   "metadata": {},
   "source": [
    "### 3. Title Case Converter\n",
    "Ask the user for a sentence. Capitalize the first letter of each word.\n",
    "\n",
    "Example:\n",
    "```\n",
    "input: hello world\n",
    "output: Hello World\n",
    "```"
   ]
  },
  {
   "cell_type": "code",
   "execution_count": null,
   "id": "a83c7de6",
   "metadata": {},
   "outputs": [],
   "source": [
    "# Your code here"
   ]
  },
  {
   "cell_type": "markdown",
   "id": "8e6e4eae",
   "metadata": {},
   "source": [
    "### 4. Unique Letters\n",
    "Ask the user for a word. Print each letter only once (skip repeats)."
   ]
  },
  {
   "cell_type": "code",
   "execution_count": null,
   "id": "693d0a9d",
   "metadata": {},
   "outputs": [],
   "source": [
    "# Your code here"
   ]
  },
  {
   "cell_type": "markdown",
   "id": "46860006",
   "metadata": {},
   "source": [
    "### 5. Mini Dictionary App\n",
    "Let the user input a word and return a definition from a small dictionary you create.\n",
    "\n",
    "Example:\n",
    "```\n",
    "word: apple\n",
    "definition: a sweet fruit\n",
    "```"
   ]
  },
  {
   "cell_type": "code",
   "execution_count": null,
   "id": "2565263f",
   "metadata": {},
   "outputs": [],
   "source": [
    "# Your code here"
   ]
  },
  {
   "cell_type": "markdown",
   "id": "adf0bdf2",
   "metadata": {},
   "source": [
    "### 🎯 Challenge: Tiny Password Validator\n",
    "Ask the user to enter a password. Check that it:\n",
    "- Has at least 8 characters\n",
    "- Includes a number\n",
    "- Includes a capital letter\n",
    "- Does **not** contain spaces\n",
    "\n",
    "Give feedback for each condition that fails."
   ]
  },
  {
   "cell_type": "code",
   "execution_count": null,
   "id": "1737c66f",
   "metadata": {},
   "outputs": [],
   "source": [
    "# Your code here"
   ]
  },
  {
   "cell_type": "markdown",
   "id": "6870a50a",
   "metadata": {},
   "source": [
    "---\n",
    "When you're done, check the solution notebook: `10c_Hard_Exercises_Solutions.ipynb`"
   ]
  }
 ],
 "metadata": {},
 "nbformat": 4,
 "nbformat_minor": 5
}
