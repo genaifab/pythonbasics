{
 "cells": [
  {
   "cell_type": "markdown",
   "id": "e8a54530",
   "metadata": {},
   "source": [
    "# 🧪 Python for Absolute Beginners\n",
    "## Notebook 10a: Easy Practice Exercises\n",
    "\n",
    "These short exercises will help you review the basics and build confidence. Try them on your own before checking the solutions."
   ]
  },
  {
   "cell_type": "markdown",
   "id": "4164b72b",
   "metadata": {},
   "source": [
    "### 1. Hello Again\n",
    "Write a program that prints:\n",
    "```\n",
    "Hello, Python learner!\n",
    "```"
   ]
  },
  {
   "cell_type": "code",
   "execution_count": null,
   "id": "3a34e7c2",
   "metadata": {},
   "outputs": [],
   "source": [
    "# Your code here"
   ]
  },
  {
   "cell_type": "markdown",
   "id": "a1c9104d",
   "metadata": {},
   "source": [
    "### 2. Favorite Color\n",
    "Ask the user for their favorite color and print a message like:\n",
    "```\n",
    "Wow, blue is a great color!\n",
    "```"
   ]
  },
  {
   "cell_type": "code",
   "execution_count": null,
   "id": "e5965af9",
   "metadata": {},
   "outputs": [],
   "source": [
    "# Your code here"
   ]
  },
  {
   "cell_type": "markdown",
   "id": "4b27096e",
   "metadata": {},
   "source": [
    "### 3. Add Two Numbers\n",
    "Ask the user for two numbers and print their sum."
   ]
  },
  {
   "cell_type": "code",
   "execution_count": null,
   "id": "3f9b1360",
   "metadata": {},
   "outputs": [],
   "source": [
    "# Your code here"
   ]
  },
  {
   "cell_type": "markdown",
   "id": "fe03683e",
   "metadata": {},
   "source": [
    "### 4. Is It Even?\n",
    "Ask the user for a number and print whether it's even or odd."
   ]
  },
  {
   "cell_type": "code",
   "execution_count": null,
   "id": "6c0d6476",
   "metadata": {},
   "outputs": [],
   "source": [
    "# Your code here"
   ]
  },
  {
   "cell_type": "markdown",
   "id": "5eaa9322",
   "metadata": {},
   "source": [
    "### 5. Print Every Letter\n",
    "Ask the user for a word and print each letter on its own line."
   ]
  },
  {
   "cell_type": "code",
   "execution_count": null,
   "id": "293c763c",
   "metadata": {},
   "outputs": [],
   "source": [
    "# Your code here"
   ]
  },
  {
   "cell_type": "markdown",
   "id": "a7927817",
   "metadata": {},
   "source": [
    "### 🎯 Challenge: Mini Bio\n",
    "Ask the user for their name, age, and favorite hobby. Then print a short bio using their answers.\n",
    "\n",
    "Example:\n",
    "```\n",
    "Meet Aisha! She's 25 years old and loves painting.\n",
    "```"
   ]
  },
  {
   "cell_type": "code",
   "execution_count": null,
   "id": "a75626b2",
   "metadata": {},
   "outputs": [],
   "source": [
    "# Your code here"
   ]
  },
  {
   "cell_type": "markdown",
   "id": "3e4fafe7",
   "metadata": {},
   "source": [
    "---\n",
    "When you're done, check the solution notebook: `10a_Easy_Exercises_Solutions.ipynb`"
   ]
  }
 ],
 "metadata": {},
 "nbformat": 4,
 "nbformat_minor": 5
}
