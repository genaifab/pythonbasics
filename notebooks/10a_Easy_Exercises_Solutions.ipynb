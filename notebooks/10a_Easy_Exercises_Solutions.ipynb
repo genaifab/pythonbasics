{
 "cells": [
  {
   "cell_type": "markdown",
   "id": "1a6d2bf9",
   "metadata": {},
   "source": [
    "# ✅ Solutions: 10a Easy Practice Exercises\n",
    "Each solution includes comments to explain what's happening step by step."
   ]
  },
  {
   "cell_type": "markdown",
   "id": "f2b4cfec",
   "metadata": {},
   "source": [
    "### 1. Hello Again"
   ]
  },
  {
   "cell_type": "code",
   "execution_count": null,
   "id": "16ead191",
   "metadata": {},
   "outputs": [],
   "source": [
    "# Simply use print to show a message\n",
    "print(\"Hello, Python learner!\")"
   ]
  },
  {
   "cell_type": "markdown",
   "id": "36ca6a00",
   "metadata": {},
   "source": [
    "### 2. Favorite Color"
   ]
  },
  {
   "cell_type": "code",
   "execution_count": null,
   "id": "d48147f6",
   "metadata": {},
   "outputs": [],
   "source": [
    "# Get input from user and use it in a print message\n",
    "color = input(\"What's your favorite color? \")\n",
    "print(\"Wow,\", color, \"is a great color!\")"
   ]
  },
  {
   "cell_type": "markdown",
   "id": "d232fa5b",
   "metadata": {},
   "source": [
    "### 3. Add Two Numbers"
   ]
  },
  {
   "cell_type": "code",
   "execution_count": null,
   "id": "56ace3d6",
   "metadata": {},
   "outputs": [],
   "source": [
    "# Convert input to float or int before adding\n",
    "num1 = float(input(\"Enter first number: \"))\n",
    "num2 = float(input(\"Enter second number: \"))\n",
    "sum = num1 + num2\n",
    "print(\"The sum is:\", sum)"
   ]
  },
  {
   "cell_type": "markdown",
   "id": "db7af282",
   "metadata": {},
   "source": [
    "### 4. Is It Even?"
   ]
  },
  {
   "cell_type": "code",
   "execution_count": null,
   "id": "a727695e",
   "metadata": {},
   "outputs": [],
   "source": [
    "# Use modulo operator to check if a number is even or odd\n",
    "number = int(input(\"Enter a number: \"))\n",
    "if number % 2 == 0:\n",
    "    print(\"Even\")\n",
    "else:\n",
    "    print(\"Odd\")"
   ]
  },
  {
   "cell_type": "markdown",
   "id": "bf16983f",
   "metadata": {},
   "source": [
    "### 5. Print Every Letter"
   ]
  },
  {
   "cell_type": "code",
   "execution_count": null,
   "id": "00aabd5a",
   "metadata": {},
   "outputs": [],
   "source": [
    "# Loop through each character in the word\n",
    "word = input(\"Enter a word: \")\n",
    "for letter in word:\n",
    "    print(letter)"
   ]
  },
  {
   "cell_type": "markdown",
   "id": "e0b39b04",
   "metadata": {},
   "source": [
    "### 🎯 Challenge: Mini Bio"
   ]
  },
  {
   "cell_type": "code",
   "execution_count": null,
   "id": "8d11321f",
   "metadata": {},
   "outputs": [],
   "source": [
    "# Get three pieces of information and use them in a message\n",
    "name = input(\"What is your name? \")\n",
    "age = input(\"How old are you? \")\n",
    "hobby = input(\"What is your favorite hobby? \")\n",
    "print(\"Meet\", name + \"! She's\", age, \"years old and loves\", hobby + \".\")"
   ]
  }
 ],
 "metadata": {},
 "nbformat": 4,
 "nbformat_minor": 5
}
