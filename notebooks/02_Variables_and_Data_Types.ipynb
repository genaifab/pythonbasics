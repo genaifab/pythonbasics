{
 "cells": [
  {
   "cell_type": "markdown",
   "id": "2100fc8a",
   "metadata": {},
   "source": [
    "# 🧮 Python for Absolute Beginners\n",
    "## Lesson 2: Variables and Data Types\n",
    "\n",
    "In this lesson, you'll learn how to store information using variables and explore different data types like numbers, text, and booleans."
   ]
  },
  {
   "cell_type": "markdown",
   "id": "ce893b1e",
   "metadata": {},
   "source": [
    "### ✅ Learning Objectives\n",
    "- Create and name variables\n",
    "- Understand strings, integers, floats, and booleans\n",
    "- Use `type()` to check a variable's data type"
   ]
  },
  {
   "cell_type": "markdown",
   "id": "d815a272",
   "metadata": {},
   "source": [
    "### 📦 What is a Variable?\n",
    "A variable is like a labeled box that stores information. You create it by giving it a name and assigning it a value with `=`."
   ]
  },
  {
   "cell_type": "code",
   "execution_count": null,
   "id": "958f2e7e",
   "metadata": {},
   "outputs": [],
   "source": [
    "name = \"Alice\"\n",
    "age = 30\n",
    "height = 5.6\n",
    "is_student = True"
   ]
  },
  {
   "cell_type": "markdown",
   "id": "8019e6e7",
   "metadata": {},
   "source": [
    "Let’s look at what each variable holds."
   ]
  },
  {
   "cell_type": "code",
   "execution_count": null,
   "id": "6820716a",
   "metadata": {},
   "outputs": [],
   "source": [
    "print(name)\n",
    "print(age)\n",
    "print(height)\n",
    "print(is_student)"
   ]
  },
  {
   "cell_type": "markdown",
   "id": "c98dcfab",
   "metadata": {},
   "source": [
    "### 🔎 Checking the Type\n",
    "Data and variables in Python have types. Use `type()` to find out the type of a value or variable. Different types -- like integer, strings, and boolean -- determine what operations can be performed on a value."
   ]
  },
  {
   "cell_type": "code",
   "execution_count": null,
   "id": "b0213d61",
   "metadata": {},
   "outputs": [],
   "source": [
    "print(type(name))\n",
    "print(type(age))\n",
    "print(type(height))\n",
    "print(type(is_student))"
   ]
  },
  {
   "cell_type": "markdown",
   "id": "3106b0b1",
   "metadata": {},
   "source": [
    "### ✍️ Practice: Create Your Own Variables\n",
    "Make your own variables for the following:\n",
    "1. Your favorite movie\n",
    "2. Your birth year\n",
    "3. Your shoe size\n",
    "4. Whether you like pizza (True/False)"
   ]
  },
  {
   "cell_type": "code",
   "execution_count": null,
   "id": "cde7bb3e",
   "metadata": {},
   "outputs": [],
   "source": [
    "# Your variables here\n",
    "favorite_movie = \"\"\n",
    "birth_year = 0\n",
    "shoe_size = 0.0\n",
    "likes_pizza = False"
   ]
  },
  {
   "cell_type": "markdown",
   "id": "e4590c11",
   "metadata": {},
   "source": [
    "### 🔁 Bonus: Change the Values\n",
    "Variables can change. Try updating one of your variables and printing it again."
   ]
  },
  {
   "cell_type": "code",
   "execution_count": null,
   "id": "1e545219",
   "metadata": {},
   "outputs": [],
   "source": [
    "birth_year = 2000\n",
    "print(birth_year)"
   ]
  },
  {
   "cell_type": "markdown",
   "id": "2b291dcc",
   "metadata": {},
   "source": [
    "### 🧾 Summary\n",
    "- Variables store data using the `=` sign\n",
    "- Common data types: `str`, `int`, `float`, `bool`\n",
    "- Use `type()` to check what kind of data you have\n",
    "\n",
    "Next up: User Input and Output →"
   ]
  }
 ],
 "metadata": {
  "language_info": {
   "name": "python"
  }
 },
 "nbformat": 4,
 "nbformat_minor": 5
}
