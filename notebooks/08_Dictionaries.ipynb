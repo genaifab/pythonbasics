{
 "cells": [
  {
   "cell_type": "markdown",
   "id": "0172d0dc",
   "metadata": {},
   "source": [
    "# 📖 Python for Absolute Beginners\n",
    "## Lesson 8: Dictionaries\n",
    "\n",
    "In this lesson, you'll learn how to store related data using **dictionaries** in Python."
   ]
  },
  {
   "cell_type": "markdown",
   "id": "21126a70",
   "metadata": {},
   "source": [
    "### ✅ Learning Objectives\n",
    "- Understand what a dictionary is\n",
    "- Create and use key-value pairs\n",
    "- Access, add, update, and delete items"
   ]
  },
  {
   "cell_type": "markdown",
   "id": "53139d71",
   "metadata": {},
   "source": [
    "### 🔑 What is a Dictionary?\n",
    "A dictionary stores data in **key-value pairs**. It's like a real dictionary, where you look up a *word* (key) and find its *definition* (value)."
   ]
  },
  {
   "cell_type": "code",
   "execution_count": null,
   "id": "0e70168f",
   "metadata": {},
   "outputs": [],
   "source": [
    "person = {\n",
    "    \"name\": \"Alice\",\n",
    "    \"age\": 30,\n",
    "    \"is_student\": True\n",
    "}\n",
    "\n",
    "print(person)"
   ]
  },
  {
   "cell_type": "markdown",
   "id": "5e4163f6",
   "metadata": {},
   "source": [
    "### 🔍 Accessing Values\n",
    "Use square brackets `[]` with the key name."
   ]
  },
  {
   "cell_type": "code",
   "execution_count": null,
   "id": "48aba173",
   "metadata": {},
   "outputs": [],
   "source": [
    "print(person[\"name\"])\n",
    "print(person[\"age\"])"
   ]
  },
  {
   "cell_type": "markdown",
   "id": "2b49a708",
   "metadata": {},
   "source": [
    "### 🆕 Adding or Updating Values"
   ]
  },
  {
   "cell_type": "code",
   "execution_count": null,
   "id": "88ca77a4",
   "metadata": {},
   "outputs": [],
   "source": [
    "person[\"city\"] = \"Boston\"  # Add new key-value pair\n",
    "person[\"age\"] = 31         # Update existing value\n",
    "print(person)"
   ]
  },
  {
   "cell_type": "markdown",
   "id": "1a1053d7",
   "metadata": {},
   "source": [
    "### ❌ Removing Items\n",
    "Use `del` to delete a key-value pair."
   ]
  },
  {
   "cell_type": "code",
   "execution_count": null,
   "id": "99871782",
   "metadata": {},
   "outputs": [],
   "source": [
    "del person[\"is_student\"]\n",
    "print(person)"
   ]
  },
  {
   "cell_type": "markdown",
   "id": "a107e1f9",
   "metadata": {},
   "source": [
    "### 🔁 Looping Through a Dictionary"
   ]
  },
  {
   "cell_type": "code",
   "execution_count": null,
   "id": "bed9b29d",
   "metadata": {},
   "outputs": [],
   "source": [
    "for key in person:\n",
    "    print(key, \"→\", person[key])"
   ]
  },
  {
   "cell_type": "markdown",
   "id": "37c19731",
   "metadata": {},
   "source": [
    "### ✍️ Practice: Create Your Own Dictionary\n",
    "Make a dictionary about your favorite book, including the title, author, and number of pages."
   ]
  },
  {
   "cell_type": "code",
   "execution_count": null,
   "id": "cb49d336",
   "metadata": {},
   "outputs": [],
   "source": [
    "book = {\n",
    "    \"title\": \"The Little Prince\",\n",
    "    \"author\": \"Antoine de Saint-Exupéry\",\n",
    "    \"pages\": 96\n",
    "}\n",
    "print(book)"
   ]
  },
  {
   "cell_type": "markdown",
   "id": "3b1d750d",
   "metadata": {},
   "source": [
    "### 🧪 Challenge: Contact Card\n",
    "Create a `contact` dictionary with name, phone, and email. Then print each item using a loop."
   ]
  },
  {
   "cell_type": "code",
   "execution_count": null,
   "id": "dcfe0fea",
   "metadata": {},
   "outputs": [],
   "source": [
    "contact = {\n",
    "    \"name\": \"Taylor\",\n",
    "    \"phone\": \"123-456-7890\",\n",
    "    \"email\": \"taylor@example.com\"\n",
    "}\n",
    "\n",
    "for key in contact:\n",
    "    print(key + \":\", contact[key])"
   ]
  },
  {
   "cell_type": "markdown",
   "id": "cbfa9cbd",
   "metadata": {},
   "source": [
    "### 🧾 Summary\n",
    "- Dictionaries use **key-value pairs** to organize data\n",
    "- You can add, update, or remove entries\n",
    "- Loop through keys to see all contents\n",
    "\n",
    "Next up: Final Mini-Project →"
   ]
  }
 ],
 "metadata": {},
 "nbformat": 4,
 "nbformat_minor": 5
}
