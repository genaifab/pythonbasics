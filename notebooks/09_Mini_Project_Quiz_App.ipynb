{
 "cells": [
  {
   "cell_type": "markdown",
   "id": "a4a36fcb",
   "metadata": {},
   "source": [
    "# 🎉 Python for Absolute Beginners\n",
    "## Lesson 9: Final Mini Project – Quiz App\n",
    "\n",
    "Let's use everything you've learned so far to build a simple quiz app using **dictionaries**."
   ]
  },
  {
   "cell_type": "markdown",
   "id": "11aaccab",
   "metadata": {},
   "source": [
    "### 🎯 Project Goal\n",
    "Create a **Quiz App** that:\n",
    "- Asks the user three questions\n",
    "- Compares their answers to correct ones stored in dictionaries\n",
    "- Tracks and displays their score"
   ]
  },
  {
   "cell_type": "markdown",
   "id": "4c18c62b",
   "metadata": {},
   "source": [
    "### ✅ Skills You'll Use\n",
    "- Input/output\n",
    "- Conditionals\n",
    "- Loops\n",
    "- Functions\n",
    "- Lists and Dictionaries"
   ]
  },
  {
   "cell_type": "markdown",
   "id": "d6918050",
   "metadata": {},
   "source": [
    "### 🧱 Step 1: Store Questions and Answers\n",
    "We'll use a list of dictionaries to store each quiz question."
   ]
  },
  {
   "cell_type": "code",
   "execution_count": null,
   "id": "4db88cf2",
   "metadata": {},
   "outputs": [],
   "source": [
    "quiz = [\n",
    "    {\"question\": \"What is the capital of France?\", \"answer\": \"paris\"},\n",
    "    {\"question\": \"How many legs does a spider have?\", \"answer\": \"8\"},\n",
    "    {\"question\": \"What planet do we live on?\", \"answer\": \"earth\"}\n",
    "]"
   ]
  },
  {
   "cell_type": "markdown",
   "id": "e1291429",
   "metadata": {},
   "source": [
    "### 🧱 Step 2: Ask the Questions\n",
    "Loop through each item in the list and get the user's input."
   ]
  },
  {
   "cell_type": "code",
   "execution_count": null,
   "id": "ca5a5c8c",
   "metadata": {},
   "outputs": [],
   "source": [
    "score = 0\n",
    "\n",
    "for q in quiz:\n",
    "    user_answer = input(q[\"question\"] + \" \").lower()\n",
    "    if user_answer == q[\"answer\"]:\n",
    "        print(\"✅ Correct!\")\n",
    "        score += 1\n",
    "    else:\n",
    "        print(\"❌ Oops! The correct answer is:\", q[\"answer\"])"
   ]
  },
  {
   "cell_type": "markdown",
   "id": "d09a34cf",
   "metadata": {},
   "source": [
    "### 🧱 Step 3: Show the Final Score"
   ]
  },
  {
   "cell_type": "code",
   "execution_count": null,
   "id": "91244786",
   "metadata": {},
   "outputs": [],
   "source": [
    "print(\"\\nYou got\", score, \"out of\", len(quiz), \"questions right.\")"
   ]
  },
  {
   "cell_type": "markdown",
   "id": "8216bab4",
   "metadata": {},
   "source": [
    "### 🧪 Challenge Extension\n",
    "- Add more questions\n",
    "- Make it case-insensitive\n",
    "- Add point values or time limits\n",
    "- Store results in a dictionary"
   ]
  },
  {
   "cell_type": "markdown",
   "id": "d8f5d709",
   "metadata": {},
   "source": [
    "### 🧾 Summary\n",
    "You just built a complete interactive Python program using:\n",
    "- Variables\n",
    "- Input/output\n",
    "- Lists\n",
    "- Dictionaries\n",
    "- Loops\n",
    "- Conditionals\n",
    "\n",
    "🎓 Congratulations on finishing the beginner workshop! Keep going and build something new!"
   ]
  }
 ],
 "metadata": {},
 "nbformat": 4,
 "nbformat_minor": 5
}
