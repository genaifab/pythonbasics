{
 "cells": [
  {
   "cell_type": "markdown",
   "id": "b78e1c2e",
   "metadata": {},
   "source": [
    "# 🐍 Python for Absolute Beginners\n",
    "## Lesson 1: Hello Python!\n",
    "\n",
    "In this lesson, you’ll learn what Python is, how to use a Jupyter notebook, and write your very first Python program. 🎉"
   ]
  },
  {
   "cell_type": "markdown",
   "id": "b12c17bf",
   "metadata": {},
   "source": [
    "### ✅ Learning Objectives\n",
    "- Understand what Python is\n",
    "- Learn how to run cells in a notebook\n",
    "- Use `print()` to output text\n",
    "- Write your first Python program"
   ]
  },
  {
   "cell_type": "markdown",
   "id": "d64b08ca",
   "metadata": {},
   "source": [
    "### 🧠 What is Python?\n",
    "Python is a popular programming language that is easy to read and widely used in data science, web development, automation, and more.\n",
    "\n",
    "A Jupyter notebook lets you run Python code one chunk at a time and see the results instantly. Let’s try it! 🧪"
   ]
  },
  {
   "cell_type": "code",
   "execution_count": null,
   "id": "1cdd1022",
   "metadata": {},
   "outputs": [],
   "source": [
    "# This is your first Python command!\n",
    "print(\"Hello, world!\")"
   ]
  },
  {
   "cell_type": "markdown",
   "id": "ed096a8f",
   "metadata": {},
   "source": [
    "✅ **Try it!**\n",
    "Run the code cell above by clicking the ▶️ button or pressing `Shift + Enter`. You should see the message below the cell."
   ]
  },
  {
   "cell_type": "markdown",
   "id": "b481452a",
   "metadata": {},
   "source": [
    "### 🗒️ Comments in Python\n",
    "Python ignores any line that starts with `#`. These are called *comments* and are useful for writing notes in your code."
   ]
  },
  {
   "cell_type": "code",
   "execution_count": null,
   "id": "b66b5356",
   "metadata": {},
   "outputs": [],
   "source": [
    "# This is a comment\n",
    "# The next line prints your name\n",
    "print(\"My name is...\")"
   ]
  },
  {
   "cell_type": "markdown",
   "id": "a9512e5d",
   "metadata": {},
   "source": [
    "### ✍️ Practice: Your Turn!\n",
    "Replace the text below with your own name, and then run the cell."
   ]
  },
  {
   "cell_type": "code",
   "execution_count": null,
   "id": "056f1977",
   "metadata": {},
   "outputs": [],
   "source": [
    "print(\"Hi, my name is YOUR NAME HERE!\")"
   ]
  },
  {
   "cell_type": "markdown",
   "id": "528e2d9b",
   "metadata": {},
   "source": [
    "### 🧪 Challenge Exercise\n",
    "Write a program that prints three lines:\n",
    "1. Your favorite food\n",
    "2. A hobby or activity you enjoy\n",
    "3. A country you'd like to visit\n",
    "\n",
    "(Use three separate `print()` statements!)"
   ]
  },
  {
   "cell_type": "code",
   "execution_count": null,
   "id": "e18e592c",
   "metadata": {},
   "outputs": [],
   "source": [
    "# Your 3-line program here\n",
    "print(\"\")\n",
    "print(\"\")\n",
    "print(\"\")"
   ]
  },
  {
   "cell_type": "markdown",
   "id": "ab6bd578",
   "metadata": {},
   "source": [
    "### 🧾 Summary\n",
    "- You learned how to run code in a Jupyter notebook\n",
    "- You used `print()` to show output\n",
    "- You added comments with `#`\n",
    "- You wrote your first program! 🎉\n",
    "\n",
    "Next up: Variables and Data Types →"
   ]
  }
 ],
 "metadata": {},
 "nbformat": 4,
 "nbformat_minor": 5
}
