{
 "cells": [
  {
   "cell_type": "markdown",
   "id": "5810cff3",
   "metadata": {},
   "source": [
    "# 🔁 Python for Absolute Beginners\n",
    "## Lesson 5: Loops (while and for)\n",
    "\n",
    "In this lesson, you'll learn how to repeat actions using loops. Loops are useful when you want to do something multiple times or go through items in a list."
   ]
  },
  {
   "cell_type": "markdown",
   "id": "8c295e71",
   "metadata": {},
   "source": [
    "### ✅ Learning Objectives\n",
    "- Understand and use `while` loops\n",
    "- Understand and use `for` loops\n",
    "- Loop through numbers and strings"
   ]
  },
  {
   "cell_type": "markdown",
   "id": "c3baa76b",
   "metadata": {},
   "source": [
    "### 🔄 The `while` Loop\n",
    "A `while` loop repeats as long as a condition is true."
   ]
  },
  {
   "cell_type": "code",
   "execution_count": null,
   "id": "4c07ab6f",
   "metadata": {},
   "outputs": [],
   "source": [
    "count = 1\n",
    "while count <= 5:\n",
    "    print(\"Count is:\", count)\n",
    "    count += 1"
   ]
  },
  {
   "cell_type": "markdown",
   "id": "bfa307d7",
   "metadata": {},
   "source": [
    "### 📌 Be careful! \n",
    "`while` loops need a condition that eventually becomes false, or they'll run forever."
   ]
  },
  {
   "cell_type": "markdown",
   "id": "0102b499",
   "metadata": {},
   "source": [
    "### 🔁 The `for` Loop\n",
    "A `for` loop repeats a fixed number of times or goes through a list of items."
   ]
  },
  {
   "cell_type": "code",
   "execution_count": null,
   "id": "8bc064c6",
   "metadata": {},
   "outputs": [],
   "source": [
    "for i in range(5):\n",
    "    print(\"Number:\", i)"
   ]
  },
  {
   "cell_type": "markdown",
   "id": "578eb433",
   "metadata": {},
   "source": [
    "### 📦 Looping Through a String"
   ]
  },
  {
   "cell_type": "code",
   "execution_count": null,
   "id": "181c7ec4",
   "metadata": {},
   "outputs": [],
   "source": [
    "for letter in \"hello\":\n",
    "    print(letter)"
   ]
  },
  {
   "cell_type": "markdown",
   "id": "349a8ebb",
   "metadata": {},
   "source": [
    "### 📋 Looping Through a List"
   ]
  },
  {
   "cell_type": "code",
   "execution_count": null,
   "id": "d22cce03",
   "metadata": {},
   "outputs": [],
   "source": [
    "fruits = [\"apple\", \"banana\", \"cherry\"]\n",
    "for fruit in fruits:\n",
    "    print(\"I like\", fruit)"
   ]
  },
  {
   "cell_type": "markdown",
   "id": "2a1c7d74",
   "metadata": {},
   "source": [
    "### ✍️ Practice: Print Numbers 1 to 10"
   ]
  },
  {
   "cell_type": "code",
   "execution_count": null,
   "id": "7bd59e02",
   "metadata": {},
   "outputs": [],
   "source": [
    "for i in range(1, 11):\n",
    "    print(i)"
   ]
  },
  {
   "cell_type": "markdown",
   "id": "f7872308",
   "metadata": {},
   "source": [
    "### 🧪 Challenge: Countdown Timer\n",
    "Use a `while` loop to count down from 5 to 1. Then print \"Lift off!\""
   ]
  },
  {
   "cell_type": "code",
   "execution_count": null,
   "id": "c1dbf450",
   "metadata": {},
   "outputs": [],
   "source": [
    "count = 5\n",
    "while count > 0:\n",
    "    print(count)\n",
    "    count -= 1\n",
    "print(\"Lift off!\")"
   ]
  },
  {
   "cell_type": "markdown",
   "id": "88ce55c8",
   "metadata": {},
   "source": [
    "### 🧾 Summary\n",
    "- Use `while` for loops with a condition\n",
    "- Use `for` to loop over a range or collection\n",
    "- Loops help automate repetition!\n",
    "\n",
    "Next up: Lists →"
   ]
  }
 ],
 "metadata": {},
 "nbformat": 4,
 "nbformat_minor": 5
}
