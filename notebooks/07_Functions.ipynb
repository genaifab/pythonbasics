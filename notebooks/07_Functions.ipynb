{
 "cells": [
  {
   "cell_type": "markdown",
   "id": "a788ed66",
   "metadata": {},
   "source": [
    "# 🧠 Python for Absolute Beginners\n",
    "## Lesson 7: Functions\n",
    "\n",
    "In this lesson, you'll learn how to group code into reusable blocks using functions."
   ]
  },
  {
   "cell_type": "markdown",
   "id": "c057078b",
   "metadata": {},
   "source": [
    "### ✅ Learning Objectives\n",
    "- Define a function using `def`\n",
    "- Call a function\n",
    "- Pass arguments to functions\n",
    "- Return values from functions"
   ]
  },
  {
   "cell_type": "markdown",
   "id": "1b4732f2",
   "metadata": {},
   "source": [
    "### 🛠️ What is a Function?\n",
    "A function is a named block of code that you can run (or \"call\") whenever you want."
   ]
  },
  {
   "cell_type": "code",
   "execution_count": null,
   "id": "f1e2691e",
   "metadata": {},
   "outputs": [],
   "source": [
    "def say_hello():\n",
    "    print(\"Hello!\")\n",
    "\n",
    "say_hello()"
   ]
  },
  {
   "cell_type": "markdown",
   "id": "5d51307a",
   "metadata": {},
   "source": [
    "### 🔣 Function with Parameters\n",
    "You can pass information to a function using *parameters*."
   ]
  },
  {
   "cell_type": "code",
   "execution_count": null,
   "id": "d2a00263",
   "metadata": {},
   "outputs": [],
   "source": [
    "def greet(name):\n",
    "    print(\"Hi, \" + name + \"!\")\n",
    "\n",
    "greet(\"Alice\")"
   ]
  },
  {
   "cell_type": "markdown",
   "id": "47d52fa0",
   "metadata": {},
   "source": [
    "### 🔁 Function with Return Value\n",
    "Use `return` to send a value back from the function."
   ]
  },
  {
   "cell_type": "code",
   "execution_count": null,
   "id": "ff9248c8",
   "metadata": {},
   "outputs": [],
   "source": [
    "def add(a, b):\n",
    "    return a + b\n",
    "\n",
    "result = add(3, 5)\n",
    "print(\"The sum is:\", result)"
   ]
  },
  {
   "cell_type": "markdown",
   "id": "377561f5",
   "metadata": {},
   "source": [
    "### ✍️ Practice: Multiply Function\n",
    "Write a function that multiplies two numbers and returns the result."
   ]
  },
  {
   "cell_type": "code",
   "execution_count": null,
   "id": "eef038cd",
   "metadata": {},
   "outputs": [],
   "source": [
    "def multiply(x, y):\n",
    "    return x * y\n",
    "\n",
    "print(multiply(4, 6))"
   ]
  },
  {
   "cell_type": "markdown",
   "id": "805c5167",
   "metadata": {},
   "source": [
    "### 🧪 Challenge: Word Reverser\n",
    "Write a function that takes a word as input and returns it spelled backward.\n",
    "\n",
    "Example: `reverse_word(\"hello\")` → `'olleh'`"
   ]
  },
  {
   "cell_type": "code",
   "execution_count": null,
   "id": "64a71e2c",
   "metadata": {},
   "outputs": [],
   "source": [
    "def reverse_word(word):\n",
    "    return word[::-1]\n",
    "\n",
    "print(reverse_word(\"hello\"))"
   ]
  },
  {
   "cell_type": "markdown",
   "id": "e72f7ee5",
   "metadata": {},
   "source": [
    "### 🧾 Summary\n",
    "- Functions let you reuse blocks of code\n",
    "- Use `def` to define, and `return` to send back a result\n",
    "- Parameters make your functions flexible\n",
    "\n",
    "Next up: Final Mini-Project →"
   ]
  }
 ],
 "metadata": {},
 "nbformat": 4,
 "nbformat_minor": 5
}
