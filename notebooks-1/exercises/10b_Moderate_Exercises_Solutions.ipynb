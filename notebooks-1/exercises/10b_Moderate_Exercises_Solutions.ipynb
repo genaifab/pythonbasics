{
 "cells": [
  {
   "cell_type": "markdown",
   "id": "d4624d18",
   "metadata": {},
   "source": [
    "# ✅ Solutions: 10b Moderate Practice Exercises\n",
    "These solutions build on core concepts and include comments to explain each step."
   ]
  },
  {
   "cell_type": "markdown",
   "id": "8f7b170b",
   "metadata": {},
   "source": [
    "### 1. Name Repeater"
   ]
  },
  {
   "cell_type": "code",
   "execution_count": null,
   "id": "55516c73",
   "metadata": {},
   "outputs": [],
   "source": [
    "# Ask for name and how many times to print it\n",
    "name = input(\"What's your name? \")\n",
    "times = int(input(\"How many times should I print your name? \"))\n",
    "\n",
    "for i in range(times):\n",
    "    print(name)"
   ]
  },
  {
   "cell_type": "markdown",
   "id": "619419ab",
   "metadata": {},
   "source": [
    "### 2. Word Counter"
   ]
  },
  {
   "cell_type": "code",
   "execution_count": null,
   "id": "922ee316",
   "metadata": {},
   "outputs": [],
   "source": [
    "# Split the sentence into words using .split()\n",
    "sentence = input(\"Enter a sentence: \")\n",
    "words = sentence.split()\n",
    "print(\"There are\", len(words), \"words.\")"
   ]
  },
  {
   "cell_type": "markdown",
   "id": "bc1fc296",
   "metadata": {},
   "source": [
    "### 3. Simple Calculator"
   ]
  },
  {
   "cell_type": "code",
   "execution_count": null,
   "id": "7cad3785",
   "metadata": {},
   "outputs": [],
   "source": [
    "# Ask for two numbers and an operation\n",
    "num1 = float(input(\"Enter the first number: \"))\n",
    "num2 = float(input(\"Enter the second number: \"))\n",
    "operation = input(\"Enter operation (+, -, *, /): \")\n",
    "\n",
    "if operation == \"+\":\n",
    "    print(\"Result:\", num1 + num2)\n",
    "elif operation == \"-\":\n",
    "    print(\"Result:\", num1 - num2)\n",
    "elif operation == \"*\":\n",
    "    print(\"Result:\", num1 * num2)\n",
    "elif operation == \"/\":\n",
    "    if num2 != 0:\n",
    "        print(\"Result:\", num1 / num2)\n",
    "    else:\n",
    "        print(\"Cannot divide by zero.\")\n",
    "else:\n",
    "    print(\"Unknown operation.\")"
   ]
  },
  {
   "cell_type": "markdown",
   "id": "f58b7c86",
   "metadata": {},
   "source": [
    "### 4. List Builder"
   ]
  },
  {
   "cell_type": "code",
   "execution_count": null,
   "id": "dd387d55",
   "metadata": {},
   "outputs": [],
   "source": [
    "# Use a loop to collect favorite movies\n",
    "movies = []\n",
    "for i in range(5):\n",
    "    movie = input(\"Enter a favorite movie: \")\n",
    "    movies.append(movie)\n",
    "\n",
    "print(\"Your movies:\", movies)"
   ]
  },
  {
   "cell_type": "markdown",
   "id": "1cce4a0d",
   "metadata": {},
   "source": [
    "### 5. Letter Counter"
   ]
  },
  {
   "cell_type": "code",
   "execution_count": null,
   "id": "042faaa7",
   "metadata": {},
   "outputs": [],
   "source": [
    "# Count how many times a letter appears in a word\n",
    "word = input(\"Enter a word: \")\n",
    "letter = input(\"Enter a letter to count: \")\n",
    "count = word.count(letter)\n",
    "print(\"The letter appears\", count, \"times.\")"
   ]
  },
  {
   "cell_type": "markdown",
   "id": "1fe3e02c",
   "metadata": {},
   "source": [
    "### 🎯 Challenge: Word Reverser with a Twist"
   ]
  },
  {
   "cell_type": "code",
   "execution_count": null,
   "id": "2a9fa508",
   "metadata": {},
   "outputs": [],
   "source": [
    "# Reverse each word in the sentence but keep order\n",
    "sentence = input(\"Enter a sentence: \")\n",
    "words = sentence.split()\n",
    "reversed_words = [word[::-1] for word in words]\n",
    "print(\" \".join(reversed_words))"
   ]
  }
 ],
 "metadata": {},
 "nbformat": 4,
 "nbformat_minor": 5
}
