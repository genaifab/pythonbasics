{
 "cells": [
  {
   "cell_type": "markdown",
   "id": "07fffd2f",
   "metadata": {},
   "source": [
    "# 🧮 Python for Absolute Beginners\n",
    "## Lesson 4: Conditionals and Logic\n",
    "\n",
    "In this lesson, you'll learn how to make your programs respond to different situations using `if`, `else`, and `elif`."
   ]
  },
  {
   "cell_type": "markdown",
   "id": "e1ac12ff",
   "metadata": {},
   "source": [
    "### ✅ Learning Objectives\n",
    "- Use `if`, `elif`, and `else` to control flow\n",
    "- Understand comparison operators like `==`, `<`, `>`\n",
    "- Combine conditions using `and`, `or`, `not`"
   ]
  },
  {
   "cell_type": "markdown",
   "id": "044ceb47",
   "metadata": {},
   "source": [
    "### 🧠 Why Use Conditionals?\n",
    "Sometimes we want our program to make decisions. For example:\n",
    "\n",
    "> If you're over 18, you can vote."
   ]
  },
  {
   "cell_type": "code",
   "execution_count": null,
   "id": "ea402a11",
   "metadata": {},
   "outputs": [],
   "source": [
    "age = int(input(\"How old are you? \"))\n",
    "if age >= 18:\n",
    "    print(\"You can vote!\")"
   ]
  },
  {
   "cell_type": "markdown",
   "id": "f5b1b500",
   "metadata": {},
   "source": [
    "### 🔀 if...else\n",
    "Use `else` to do something different when the condition is false."
   ]
  },
  {
   "cell_type": "code",
   "execution_count": null,
   "id": "19bcce1c",
   "metadata": {},
   "outputs": [],
   "source": [
    "age = int(input(\"How old are you? \"))\n",
    "if age >= 18:\n",
    "    print(\"You can vote!\")\n",
    "else:\n",
    "    print(\"Sorry, you're too young to vote.\")"
   ]
  },
  {
   "cell_type": "markdown",
   "id": "f5113bd8",
   "metadata": {},
   "source": [
    "### 🔁 if...elif...else\n",
    "You can check multiple conditions."
   ]
  },
  {
   "cell_type": "code",
   "execution_count": null,
   "id": "9e381ad5",
   "metadata": {},
   "outputs": [],
   "source": [
    "temperature = int(input(\"What's the temperature? \"))\n",
    "if temperature > 85:\n",
    "    print(\"It's hot!\")\n",
    "elif temperature > 60:\n",
    "    print(\"It's nice out.\")\n",
    "else:\n",
    "    print(\"Bring a jacket!\")"
   ]
  },
  {
   "cell_type": "markdown",
   "id": "a96f5d6d",
   "metadata": {},
   "source": [
    "### 🔎 Comparison Operators\n",
    "| Symbol | Meaning        |\n",
    "|--------|----------------|\n",
    "| `==`   | Equal          |\n",
    "| `!=`   | Not equal      |\n",
    "| `>`    | Greater than   |\n",
    "| `<`    | Less than      |\n",
    "| `>=`   | Greater or equal |\n",
    "| `<=`   | Less or equal   |"
   ]
  },
  {
   "cell_type": "markdown",
   "id": "883be1b5",
   "metadata": {},
   "source": [
    "### 🔗 Logical Operators\n",
    "You can combine multiple conditions using:\n",
    "- `and`\n",
    "- `or`\n",
    "- `not`"
   ]
  },
  {
   "cell_type": "code",
   "execution_count": null,
   "id": "271798a2",
   "metadata": {},
   "outputs": [],
   "source": [
    "age = 20\n",
    "has_id = True\n",
    "if age >= 18 and has_id:\n",
    "    print(\"You can enter.\")"
   ]
  },
  {
   "cell_type": "markdown",
   "id": "7549b47c",
   "metadata": {},
   "source": [
    "### ✍️ Practice: Even or Odd\n",
    "Ask the user for a number. Print whether it's even or odd."
   ]
  },
  {
   "cell_type": "code",
   "execution_count": null,
   "id": "b7336cf2",
   "metadata": {},
   "outputs": [],
   "source": [
    "# Your code here\n",
    "num = int(input(\"Enter a number: \"))\n",
    "if num % 2 == 0:\n",
    "    print(\"Even\")\n",
    "else:\n",
    "    print(\"Odd\")"
   ]
  },
  {
   "cell_type": "markdown",
   "id": "cfadf2d8",
   "metadata": {},
   "source": [
    "### 🧪 Challenge: Grading System\n",
    "Ask for a test score (0–100) and print:\n",
    "- \"A\" for 90 and above\n",
    "- \"B\" for 80–89\n",
    "- \"C\" for 70–79\n",
    "- \"D\" for 60–69\n",
    "- \"F\" for below 60"
   ]
  },
  {
   "cell_type": "code",
   "execution_count": null,
   "id": "1b7ba8c2",
   "metadata": {},
   "outputs": [],
   "source": [
    "# Your code here\n",
    "score = int(input(\"Enter your score: \"))\n",
    "if score >= 90:\n",
    "    print(\"A\")\n",
    "elif score >= 80:\n",
    "    print(\"B\")\n",
    "elif score >= 70:\n",
    "    print(\"C\")\n",
    "elif score >= 60:\n",
    "    print(\"D\")\n",
    "else:\n",
    "    print(\"F\")"
   ]
  },
  {
   "cell_type": "markdown",
   "id": "663651f9",
   "metadata": {},
   "source": [
    "### 🧾 Summary\n",
    "- `if`, `elif`, and `else` let your program make decisions\n",
    "- Use comparison and logical operators to build conditions\n",
    "- You created dynamic programs that react to input!\n",
    "\n",
    "Next up: Loops →"
   ]
  }
 ],
 "metadata": {
  "language_info": {
   "name": "python"
  }
 },
 "nbformat": 4,
 "nbformat_minor": 5
}
