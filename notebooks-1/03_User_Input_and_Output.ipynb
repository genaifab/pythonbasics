{
 "cells": [
  {
   "cell_type": "markdown",
   "id": "57036c03",
   "metadata": {},
   "source": [
    "# 🧮 Python for Absolute Beginners\n",
    "## Lesson 3: User Input and Output\n",
    "\n",
    "In this lesson, you'll learn how to get input from the user and use it in your Python programs."
   ]
  },
  {
   "cell_type": "markdown",
   "id": "b9d510f4",
   "metadata": {},
   "source": [
    "### ✅ Learning Objectives\n",
    "- Use `input()` to get information from the user\n",
    "- Combine input with `print()`\n",
    "- Convert input strings into numbers"
   ]
  },
  {
   "cell_type": "markdown",
   "id": "dbbec01f",
   "metadata": {},
   "source": [
    "### ⌨️ Getting Input\n",
    "Use the `input()` function to ask the user a question. Try this:"
   ]
  },
  {
   "cell_type": "code",
   "execution_count": null,
   "id": "2dcfeca9",
   "metadata": {},
   "outputs": [],
   "source": [
    "name = input(\"What's your name? \")\n",
    "print(\"Hello, \" + name + \"!\")"
   ]
  },
  {
   "cell_type": "markdown",
   "id": "c4eed127",
   "metadata": {},
   "source": [
    "### ⚠️ Note\n",
    "Everything entered using `input()` is treated as a string (text), even if it's a number."
   ]
  },
  {
   "cell_type": "code",
   "execution_count": null,
   "id": "3a6a6fe3",
   "metadata": {},
   "outputs": [],
   "source": [
    "age = input(\"How old are you? \")\n",
    "print(\"You are \" + age + \" years old.\")"
   ]
  },
  {
   "cell_type": "markdown",
   "id": "3b4a29f4",
   "metadata": {},
   "source": [
    "### 🔢 Converting Input to Numbers\n",
    "Use `int()` or `float()` to convert input into numbers so you can do math."
   ]
  },
  {
   "cell_type": "code",
   "execution_count": null,
   "id": "d2f97f81",
   "metadata": {},
   "outputs": [],
   "source": [
    "birth_year = input(\"What year were you born? \")\n",
    "age = 2025 - int(birth_year)\n",
    "print(\"You are about\", age, \"years old.\")"
   ]
  },
  {
   "cell_type": "markdown",
   "id": "da6236fb",
   "metadata": {},
   "source": [
    "### ✍️ Practice: Tip Calculator\n",
    "Ask the user for a bill amount and a tip percentage. Then calculate and print the tip."
   ]
  },
  {
   "cell_type": "code",
   "execution_count": null,
   "id": "c622f144",
   "metadata": {},
   "outputs": [],
   "source": [
    "# Tip calculator\n",
    "bill = float(input(\"Enter the bill amount: \"))\n",
    "tip_percent = float(input(\"Enter tip percentage: \"))\n",
    "tip = bill * tip_percent / 100\n",
    "print(\"Your tip is:\", tip)"
   ]
  },
  {
   "cell_type": "markdown",
   "id": "f3c01f96",
   "metadata": {},
   "source": [
    "### 🧪 Challenge Exercise\n",
    "Ask the user for:\n",
    "- Their name\n",
    "- Their favorite number\n",
    "\n",
    "Then print a friendly message like:\n",
    "> Hi Sam! Did you know that 7 x 2 = 14?"
   ]
  },
  {
   "cell_type": "code",
   "execution_count": null,
   "id": "63d52ef1",
   "metadata": {},
   "outputs": [],
   "source": [
    "# Your code here\n",
    "name = input(\"What's your name? \")\n",
    "fav_number = int(input(\"What's your favorite number? \"))\n",
    "print(\"Hi \" + name + \"! Did you know that\", fav_number, \"x 2 =\", fav_number * 2, \"?\")"
   ]
  },
  {
   "cell_type": "markdown",
   "id": "55081647",
   "metadata": {},
   "source": [
    "### 🧾 Summary\n",
    "- `input()` lets you get information from the user\n",
    "- Use `int()` or `float()` to turn input into numbers\n",
    "- You combined input and output to make interactive programs!\n",
    "\n",
    "Next up: Conditionals →"
   ]
  }
 ],
 "metadata": {},
 "nbformat": 4,
 "nbformat_minor": 5
}
